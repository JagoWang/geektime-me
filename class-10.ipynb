{
 "cells": [
  {
   "attachments": {},
   "cell_type": "markdown",
   "metadata": {},
   "source": [
    "### AI连接外部资料库，让Llama Index带你阅读一本书"
   ]
  },
  {
   "cell_type": "code",
   "execution_count": 6,
   "metadata": {},
   "outputs": [],
   "source": [
    "\n",
    "import openai, os\n",
    "from llama_index import GPTVectorStoreIndex, SimpleDirectoryReader\n",
    "\n",
    "openai.api_key = os.environ.get(\"OPENAI_API_KEY\")\n",
    "\n",
    "documents = SimpleDirectoryReader('./data/mr_fujino/mr_fujino.txt').load_data()\n",
    "index = GPTVectorStoreIndex.from_documents(documents)\n",
    "index.storage_context.persist('index_mr_fujino')\n",
    "#index.save_to_disk('./data/mr_fujino/index_mr_fujino.json')\n",
    "#index.save_to_disk('index_mr_fujino.json')"
   ]
  },
  {
   "cell_type": "code",
   "execution_count": 7,
   "metadata": {},
   "outputs": [
    {
     "ename": "ModuleNotFoundError",
     "evalue": "No module named 'llama_index.query_engine'",
     "output_type": "error",
     "traceback": [
      "\u001b[0;31m---------------------------------------------------------------------------\u001b[0m",
      "\u001b[0;31mModuleNotFoundError\u001b[0m                       Traceback (most recent call last)",
      "Cell \u001b[0;32mIn[7], line 7\u001b[0m\n\u001b[1;32m      5\u001b[0m \u001b[39m# load index\u001b[39;00m\n\u001b[1;32m      6\u001b[0m index \u001b[39m=\u001b[39m load_index_from_storage(storage_context)\n\u001b[0;32m----> 7\u001b[0m query_engine \u001b[39m=\u001b[39m index\u001b[39m.\u001b[39;49mas_query_engine()\n\u001b[1;32m      8\u001b[0m response \u001b[39m=\u001b[39m query_engine\u001b[39m.\u001b[39mquery(\u001b[39m\"\u001b[39m\u001b[39m鲁迅先生在日本学习医学的老师是谁？\u001b[39m\u001b[39m\"\u001b[39m)\n\u001b[1;32m      9\u001b[0m \u001b[39mprint\u001b[39m(response)\n",
      "File \u001b[0;32m~/miniconda3/envs/py310/lib/python3.10/site-packages/llama_index/indices/base.py:230\u001b[0m, in \u001b[0;36mBaseGPTIndex.as_query_engine\u001b[0;34m(self, **kwargs)\u001b[0m\n\u001b[1;32m    228\u001b[0m \u001b[39mdef\u001b[39;00m \u001b[39mas_query_engine\u001b[39m(\u001b[39mself\u001b[39m, \u001b[39m*\u001b[39m\u001b[39m*\u001b[39mkwargs: Any) \u001b[39m-\u001b[39m\u001b[39m>\u001b[39m BaseQueryEngine:\n\u001b[1;32m    229\u001b[0m     \u001b[39m# NOTE: lazy import\u001b[39;00m\n\u001b[0;32m--> 230\u001b[0m     \u001b[39mfrom\u001b[39;00m \u001b[39mllama_index\u001b[39;00m\u001b[39m.\u001b[39;00m\u001b[39mquery_engine\u001b[39;00m\u001b[39m.\u001b[39;00m\u001b[39mretriever_query_engine\u001b[39;00m \u001b[39mimport\u001b[39;00m RetrieverQueryEngine\n\u001b[1;32m    232\u001b[0m     retriever \u001b[39m=\u001b[39m \u001b[39mself\u001b[39m\u001b[39m.\u001b[39mas_retriever(\u001b[39m*\u001b[39m\u001b[39m*\u001b[39mkwargs)\n\u001b[1;32m    234\u001b[0m     kwargs[\u001b[39m\"\u001b[39m\u001b[39mretriever\u001b[39m\u001b[39m\"\u001b[39m] \u001b[39m=\u001b[39m retriever\n",
      "\u001b[0;31mModuleNotFoundError\u001b[0m: No module named 'llama_index.query_engine'"
     ]
    }
   ],
   "source": [
    "# 从磁盘重新加载：\n",
    "from llama_index import StorageContext, load_index_from_storage\n",
    "# rebuild storage context\n",
    "storage_context = StorageContext.from_defaults(persist_dir=\"./index_mr_fujino\")\n",
    "# load index\n",
    "index = load_index_from_storage(storage_context)\n",
    "query_engine = index.as_query_engine()\n",
    "response = query_engine.query(\"鲁迅先生在日本学习医学的老师是谁？\")\n",
    "print(response)"
   ]
  },
  {
   "cell_type": "markdown",
   "metadata": {},
   "source": []
  },
  {
   "cell_type": "code",
   "execution_count": 9,
   "metadata": {},
   "outputs": [],
   "source": [
    "\n",
    "from langchain.chat_models import ChatOpenAI\n",
    "from langchain.text_splitter import SpacyTextSplitter\n",
    "from llama_index import GPTListIndex, LLMPredictor, ServiceContext\n",
    "from llama_index.node_parser import SimpleNodeParser\n",
    "\n",
    "# define LLM\n",
    "llm_predictor = LLMPredictor(llm=ChatOpenAI(temperature=0, model_name=\"gpt-3.5-turbo\", max_tokens=1024))\n",
    "\n",
    "text_splitter = SpacyTextSplitter(pipeline=\"zh_core_web_sm\", chunk_size = 2048)\n",
    "parser = SimpleNodeParser(text_splitter=text_splitter)\n",
    "documents = SimpleDirectoryReader('./data/mr_fujino').load_data()\n",
    "nodes = parser.get_nodes_from_documents(documents)\n",
    "\n",
    "service_context = ServiceContext.from_defaults(llm_predictor=llm_predictor)\n",
    "\n",
    "list_index = GPTListIndex(nodes=nodes, service_context=service_context)"
   ]
  },
  {
   "cell_type": "code",
   "execution_count": 10,
   "metadata": {},
   "outputs": [
    {
     "ename": "AttributeError",
     "evalue": "'GPTListIndex' object has no attribute 'query'",
     "output_type": "error",
     "traceback": [
      "\u001b[0;31m---------------------------------------------------------------------------\u001b[0m",
      "\u001b[0;31mAttributeError\u001b[0m                            Traceback (most recent call last)",
      "Cell \u001b[0;32mIn[10], line 1\u001b[0m\n\u001b[0;32m----> 1\u001b[0m response \u001b[39m=\u001b[39m list_index\u001b[39m.\u001b[39;49mquery(\u001b[39m\"\u001b[39m\u001b[39m下面鲁迅先生以第一人称‘我’写的内容，请你用中文总结一下:\u001b[39m\u001b[39m\"\u001b[39m, response_mode\u001b[39m=\u001b[39m\u001b[39m\"\u001b[39m\u001b[39mtree_summarize\u001b[39m\u001b[39m\"\u001b[39m)\n\u001b[1;32m      2\u001b[0m \u001b[39mprint\u001b[39m(response)\n",
      "\u001b[0;31mAttributeError\u001b[0m: 'GPTListIndex' object has no attribute 'query'"
     ]
    }
   ],
   "source": [
    "\n",
    "response = list_index.query(\"下面鲁迅先生以第一人称‘我’写的内容，请你用中文总结一下:\", response_mode=\"tree_summarize\")\n",
    "print(response)"
   ]
  }
 ],
 "metadata": {
  "kernelspec": {
   "display_name": "py310",
   "language": "python",
   "name": "python3"
  },
  "language_info": {
   "codemirror_mode": {
    "name": "ipython",
    "version": 3
   },
   "file_extension": ".py",
   "mimetype": "text/x-python",
   "name": "python",
   "nbconvert_exporter": "python",
   "pygments_lexer": "ipython3",
   "version": "3.10.11"
  },
  "orig_nbformat": 4
 },
 "nbformat": 4,
 "nbformat_minor": 2
}
